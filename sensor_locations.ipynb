{
 "cells": [
  {
   "cell_type": "code",
   "execution_count": 1,
   "id": "b6538297",
   "metadata": {},
   "outputs": [],
   "source": [
    "import math\n",
    "import csv\n",
    "import matplotlib.pyplot as plt\n",
    "import numpy as np"
   ]
  },
  {
   "cell_type": "markdown",
   "id": "b283030a",
   "metadata": {},
   "source": [
    "## Generate grid_points.txt for Ansys Ensight"
   ]
  },
  {
   "cell_type": "code",
   "execution_count": 2,
   "id": "db845285",
   "metadata": {},
   "outputs": [],
   "source": [
    "def distance_from_origin(x, y, z=0):\n",
    "    return math.sqrt(x ** 2 + y ** 2 + z ** 2)\n",
    "\n",
    "# Initialize the file\n",
    "with open(\"grid_points.txt\", \"w\") as f:\n",
    "    # Write headers\n",
    "    f.write(\"#Version 1.0\\n\")\n",
    "    f.write(\"#EnSight Point Format\\n\")\n",
    "    \n",
    "    # Loop over the grid range\n",
    "    for x in range(-200, 600, 5):  # x goes from -200 to 200 with step size 4\n",
    "        for y in range(-200, 200, 5):  # y goes from -200 to 200 with step size 4\n",
    "            z = 0  # z is always 0\n",
    "            \n",
    "            # Check if the point is at an acceptable distance from the origin\n",
    "            if distance_from_origin(x, y, z) >= 40:\n",
    "                # Write the point to the file\n",
    "                f.write(f\"{x}, {y}, {z}\\n\")\n"
   ]
  },
  {
   "cell_type": "markdown",
   "id": "1b1c1150",
   "metadata": {},
   "source": [
    "## Read the Coordinates of the sensor locations"
   ]
  },
  {
   "cell_type": "code",
   "execution_count": 3,
   "id": "78877d9f",
   "metadata": {},
   "outputs": [],
   "source": [
    "x_coords = []\n",
    "y_coords = []\n",
    "\n",
    "with open(\"grid_points.txt\", \"r\") as f:\n",
    "    reader = csv.reader(f)\n",
    "    headers = [next(reader) for _ in range(2)]  # Skip the first two header lines\n",
    "    \n",
    "    for row in reader:\n",
    "        x, y, z = map(float, row)\n",
    "        x_coords.append(x)\n",
    "        y_coords.append(y)"
   ]
  },
  {
   "cell_type": "code",
   "execution_count": 4,
   "id": "cdf7f43e",
   "metadata": {},
   "outputs": [
    {
     "data": {
      "image/png": "[encoded data removed]",
      "text/plain": [
       "<Figure size 700x400 with 1 Axes>"
      ]
     },
     "metadata": {},
     "output_type": "display_data"
    },
    {
     "name": "stdout",
     "output_type": "stream",
     "text": [
      "12607\n"
     ]
    }
   ],
   "source": [
    "### Plot the points\n",
    "plt.figure(figsize=(7,4))\n",
    "plt.plot(x_coords,y_coords, 's', markersize=9)\n",
    "plt.axis('equal')\n",
    "plt.xlabel(\"X\")\n",
    "plt.ylabel(\"Y\")\n",
    "plt.title(\"Grid Points\")\n",
    "plt.show()\n",
    "print(len(x_coords))"
   ]
  }
 ],
 "metadata": {
  "kernelspec": {
   "display_name": "Python (torch)",
   "language": "python",
   "name": "torch"
  },
  "language_info": {
   "codemirror_mode": {
    "name": "ipython",
    "version": 3
   },
   "file_extension": ".py",
   "mimetype": "text/x-python",
   "name": "python",
   "nbconvert_exporter": "python",
   "pygments_lexer": "ipython3",
   "version": "3.10.11"
  }
 },
 "nbformat": 4,
 "nbformat_minor": 5
}
