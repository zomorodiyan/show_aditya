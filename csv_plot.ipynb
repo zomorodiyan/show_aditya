{
 "cells": [
  {
   "cell_type": "code",
   "execution_count": 1,
   "id": "60a0b3d2",
   "metadata": {},
   "outputs": [],
   "source": [
    "import matplotlib.pyplot as plt\n",
    "import matplotlib.tri as tri\n",
    "import numpy as np\n",
    "import pandas as pd\n",
    "import re # search in an string"
   ]
  },
  {
   "cell_type": "code",
   "execution_count": 43,
   "id": "720a95b9",
   "metadata": {},
   "outputs": [],
   "source": [
    "def load_csv(file_path):\n",
    "    all_snapshots = []\n",
    "    lines_per_snapshot = 22341 #number of collocations/sensors in a single snapshot\n",
    "    lines_of_garbage = 6\n",
    "    lines_per_section = lines_per_snapshot + lines_of_garbage\n",
    "    column_names = ['p', 'c', 'w', 'k', 'u', 'v', 'x', 'y']\n",
    "    snapshot_number = 0\n",
    "    for chunk in pd.read_csv(file_path, \n",
    "                             chunksize=lines_per_section,\n",
    "                             skip_blank_lines=False,\n",
    "                             names=column_names,\n",
    "                             delimiter=','):       \n",
    "        snapshot_number += 1\n",
    "        chunk['snapshot'] = None\n",
    "        data_lines = chunk.iloc[lines_of_garbage:].copy()\n",
    "        if (len(data_lines)==0):break\n",
    "        print(f\"Loading snapshot {snapshot_number}/100, Length: {len(data_lines)}\", end='\\r', flush=True)\n",
    "        data_lines['t'] = snapshot_number\n",
    "        all_snapshots.append(data_lines)\n",
    "    data = pd.concat(all_snapshots, ignore_index=True)\n",
    "    \n",
    "    # data cleaning\n",
    "    data['c'] = pd.to_numeric(data['c'], errors='coerce')\n",
    "    data.loc[data['c'] < 0, 'c'] = 0 \n",
    "#     data['u'] = pd.to_numeric(data['u'], errors='coerce')\n",
    "#     data['v'] = pd.to_numeric(data['v'], errors='coerce')\n",
    "#     data['k'] = pd.to_numeric(data['k'], errors='coerce')\n",
    "#     data['w'] = pd.to_numeric(data['w'], errors='coerce')\n",
    "#     data['x'] = pd.to_numeric(data['k'], errors='coerce')\n",
    "#     data['y'] = pd.to_numeric(data['w'], errors='coerce')\n",
    "#     data['t'] = pd.to_numeric(data['w'], errors='coerce')\n",
    "    \n",
    "    \n",
    "    # add wind and leak_x, leak_y, leak_s to dataset\n",
    "    [wind, leak_x, leak_y, leak_s] = determine_wind_and_leak(file_path)\n",
    "    data['wind'] = wind\n",
    "    data['leak_x'] = leak_x\n",
    "    data['leak_y'] = leak_y\n",
    "    data['leak_s'] = leak_s\n",
    "    return data"
   ]
  },
  {
   "cell_type": "code",
   "execution_count": 44,
   "id": "8092f48f",
   "metadata": {},
   "outputs": [],
   "source": [
    "def determine_wind_and_leak(file_path):\n",
    "    leak_s = None\n",
    "    wind = None\n",
    "    leak_x = None\n",
    "    leak_y = None\n",
    "    file_name = file_path[-8:]\n",
    "\n",
    "    radius = 40\n",
    "    # determine free-stream ambient wind speed\n",
    "    if re.search(r'l[hl]', file_name):\n",
    "        wind = 6\n",
    "    elif re.search(r'm[hl]', file_name):\n",
    "        wind = 9\n",
    "    elif re.search(r'h[hl]', file_name):\n",
    "        wind = 12\n",
    "\n",
    "    # determine leakage speed at the orifice    \n",
    "    if re.search(r'[lmh]l', file_name):\n",
    "        leak_s = 0.5\n",
    "    elif re.search(r'[lmh]h', file_name):\n",
    "        leak_s = 1.0\n",
    "    \n",
    "    # determine leakage location\n",
    "    if re.search(r'e[lmh][lh]', file_name):\n",
    "        leak_x = radius\n",
    "        leak_y = 0\n",
    "    elif re.search(r'ne[lmh][lh]', file_name):\n",
    "        leak_x = radius/np.sqrt(2)\n",
    "        leak_y = radius/np.sqrt(2)\n",
    "    elif re.search(r'n[lmh][lh]', file_name):\n",
    "        leak_x = 0\n",
    "        leak_y = radius\n",
    "    elif re.search(r'nw[lmh][lh]', file_name):\n",
    "        leak_x = -radius/np.sqrt(2)\n",
    "        leak_y = radius/np.sqrt(2)\n",
    "    elif re.search(r'w[lmh][lh]', file_name):\n",
    "        leak_x = -radius\n",
    "        leak_y = 0    \n",
    "    elif re.search(r'sw[lmh][lh]', file_name):\n",
    "        leak_x = -radius/np.sqrt(2)\n",
    "        leak_y = -radius/np.sqrt(2)\n",
    "    elif re.search(r's[lmh][lh]', file_name):\n",
    "        leak_x = 0\n",
    "        leak_y = -radius\n",
    "    elif re.search(r'se[lmh][lh]', file_name):\n",
    "        leak_x = radius/np.sqrt(2)\n",
    "        leak_y = -radius/np.sqrt(2)        \n",
    "\n",
    "    if wind is None or leak_x is None or leak_y is None or leak_s is None:\n",
    "            raise ValueError(\"One or more variables are None\")\n",
    "    return wind, leak_x, leak_y, leak_s"
   ]
  },
  {
   "cell_type": "code",
   "execution_count": 45,
   "id": "9802d028",
   "metadata": {},
   "outputs": [
    {
     "name": "stdout",
     "output_type": "stream",
     "text": [
      "Loading snapshot 100/100, Length: 22341\r"
     ]
    }
   ],
   "source": [
    "file_path=\"./nmh.csv\"\n",
    "data=load_csv(file_path)"
   ]
  },
  {
   "cell_type": "code",
   "execution_count": 46,
   "id": "0612f545",
   "metadata": {},
   "outputs": [
    {
     "data": {
      "text/html": [
       "<div>\n",
       "<style scoped>\n",
       "    .dataframe tbody tr th:only-of-type {\n",
       "        vertical-align: middle;\n",
       "    }\n",
       "\n",
       "    .dataframe tbody tr th {\n",
       "        vertical-align: top;\n",
       "    }\n",
       "\n",
       "    .dataframe thead th {\n",
       "        text-align: right;\n",
       "    }\n",
       "</style>\n",
       "<table border=\"1\" class=\"dataframe\">\n",
       "  <thead>\n",
       "    <tr style=\"text-align: right;\">\n",
       "      <th></th>\n",
       "      <th>p</th>\n",
       "      <th>c</th>\n",
       "      <th>w</th>\n",
       "      <th>k</th>\n",
       "      <th>u</th>\n",
       "      <th>v</th>\n",
       "      <th>x</th>\n",
       "      <th>y</th>\n",
       "      <th>snapshot</th>\n",
       "      <th>t</th>\n",
       "      <th>wind</th>\n",
       "      <th>leak_x</th>\n",
       "      <th>leak_y</th>\n",
       "      <th>leak_s</th>\n",
       "    </tr>\n",
       "  </thead>\n",
       "  <tbody>\n",
       "    <tr>\n",
       "      <th>0</th>\n",
       "      <td>-1.45718426e-01</td>\n",
       "      <td>0.0</td>\n",
       "      <td>1.13835706e+03</td>\n",
       "      <td>1.64920509e-01</td>\n",
       "      <td>9.00041199e+00</td>\n",
       "      <td>0.00000000e+00</td>\n",
       "      <td>-2.00000000e+02</td>\n",
       "      <td>-2.00000000e+02</td>\n",
       "      <td>None</td>\n",
       "      <td>1</td>\n",
       "      <td>9</td>\n",
       "      <td>0</td>\n",
       "      <td>40</td>\n",
       "      <td>1.0</td>\n",
       "    </tr>\n",
       "    <tr>\n",
       "      <th>1</th>\n",
       "      <td>-1.26740709e-01</td>\n",
       "      <td>0.0</td>\n",
       "      <td>1.90829956e+03</td>\n",
       "      <td>2.78504044e-01</td>\n",
       "      <td>9.00007439e+00</td>\n",
       "      <td>0.00000000e+00</td>\n",
       "      <td>-2.00000000e+02</td>\n",
       "      <td>-1.94594589e+02</td>\n",
       "      <td>None</td>\n",
       "      <td>1</td>\n",
       "      <td>9</td>\n",
       "      <td>0</td>\n",
       "      <td>40</td>\n",
       "      <td>1.0</td>\n",
       "    </tr>\n",
       "    <tr>\n",
       "      <th>2</th>\n",
       "      <td>-8.87517929e-02</td>\n",
       "      <td>0.0</td>\n",
       "      <td>2.07943311e+03</td>\n",
       "      <td>3.03750008e-01</td>\n",
       "      <td>9.00000000e+00</td>\n",
       "      <td>0.00000000e+00</td>\n",
       "      <td>-2.00000000e+02</td>\n",
       "      <td>-1.89189194e+02</td>\n",
       "      <td>None</td>\n",
       "      <td>1</td>\n",
       "      <td>9</td>\n",
       "      <td>0</td>\n",
       "      <td>40</td>\n",
       "      <td>1.0</td>\n",
       "    </tr>\n",
       "    <tr>\n",
       "      <th>3</th>\n",
       "      <td>-2.96125151e-02</td>\n",
       "      <td>0.0</td>\n",
       "      <td>2.07943311e+03</td>\n",
       "      <td>3.03750038e-01</td>\n",
       "      <td>9.00000000e+00</td>\n",
       "      <td>0.00000000e+00</td>\n",
       "      <td>-2.00000000e+02</td>\n",
       "      <td>-1.83783783e+02</td>\n",
       "      <td>None</td>\n",
       "      <td>1</td>\n",
       "      <td>9</td>\n",
       "      <td>0</td>\n",
       "      <td>40</td>\n",
       "      <td>1.0</td>\n",
       "    </tr>\n",
       "    <tr>\n",
       "      <th>4</th>\n",
       "      <td>5.16862199e-02</td>\n",
       "      <td>0.0</td>\n",
       "      <td>2.07943311e+03</td>\n",
       "      <td>3.03750008e-01</td>\n",
       "      <td>9.00000000e+00</td>\n",
       "      <td>0.00000000e+00</td>\n",
       "      <td>-2.00000000e+02</td>\n",
       "      <td>-1.78378372e+02</td>\n",
       "      <td>None</td>\n",
       "      <td>1</td>\n",
       "      <td>9</td>\n",
       "      <td>0</td>\n",
       "      <td>40</td>\n",
       "      <td>1.0</td>\n",
       "    </tr>\n",
       "  </tbody>\n",
       "</table>\n",
       "</div>"
      ],
      "text/plain": [
       "                 p    c                w                k                u  \\\n",
       "0  -1.45718426e-01  0.0   1.13835706e+03   1.64920509e-01   9.00041199e+00   \n",
       "1  -1.26740709e-01  0.0   1.90829956e+03   2.78504044e-01   9.00007439e+00   \n",
       "2  -8.87517929e-02  0.0   2.07943311e+03   3.03750008e-01   9.00000000e+00   \n",
       "3  -2.96125151e-02  0.0   2.07943311e+03   3.03750038e-01   9.00000000e+00   \n",
       "4   5.16862199e-02  0.0   2.07943311e+03   3.03750008e-01   9.00000000e+00   \n",
       "\n",
       "                 v                 x                 y snapshot  t  wind  \\\n",
       "0   0.00000000e+00   -2.00000000e+02   -2.00000000e+02     None  1     9   \n",
       "1   0.00000000e+00   -2.00000000e+02   -1.94594589e+02     None  1     9   \n",
       "2   0.00000000e+00   -2.00000000e+02   -1.89189194e+02     None  1     9   \n",
       "3   0.00000000e+00   -2.00000000e+02   -1.83783783e+02     None  1     9   \n",
       "4   0.00000000e+00   -2.00000000e+02   -1.78378372e+02     None  1     9   \n",
       "\n",
       "   leak_x  leak_y  leak_s  \n",
       "0       0      40     1.0  \n",
       "1       0      40     1.0  \n",
       "2       0      40     1.0  \n",
       "3       0      40     1.0  \n",
       "4       0      40     1.0  "
      ]
     },
     "execution_count": 46,
     "metadata": {},
     "output_type": "execute_result"
    }
   ],
   "source": [
    "data.head()"
   ]
  },
  {
   "cell_type": "code",
   "execution_count": 47,
   "id": "b46ed1b2",
   "metadata": {},
   "outputs": [],
   "source": [
    "def plot_variable_evolution(df, index, variable='c'):\n",
    "    # Check if the index is within the valid range\n",
    "    if not (0 <= index < 22341):\n",
    "        raise ValueError(\"Index must be between 0 and 22340\")\n",
    "\n",
    "    # Extracting the variable data for the specific point across all snapshots\n",
    "    variable_data = df[variable].iloc[index::22341].astype(np.float64)\n",
    "\n",
    "    # Plotting\n",
    "    plt.figure(figsize=(10, 6))\n",
    "    plt.plot(variable_data)\n",
    "    plt.xlabel('Snapshot')\n",
    "    plt.ylabel(variable)\n",
    "    plt.title(f'Evolution of {variable} over time at data point {index}')\n",
    "    plt.grid(True)\n",
    "    plt.show()"
   ]
  },
  {
   "cell_type": "code",
   "execution_count": 48,
   "id": "91a643ce",
   "metadata": {},
   "outputs": [
    {
     "name": "stdout",
     "output_type": "stream",
     "text": [
      "<class 'pandas.core.frame.DataFrame'>\n",
      "RangeIndex: 2234100 entries, 0 to 2234099\n",
      "Data columns (total 14 columns):\n",
      " #   Column    Dtype  \n",
      "---  ------    -----  \n",
      " 0   p         object \n",
      " 1   c         float64\n",
      " 2   w         object \n",
      " 3   k         object \n",
      " 4   u         object \n",
      " 5   v         object \n",
      " 6   x         object \n",
      " 7   y         object \n",
      " 8   snapshot  object \n",
      " 9   t         int64  \n",
      " 10  wind      int64  \n",
      " 11  leak_x    int64  \n",
      " 12  leak_y    int64  \n",
      " 13  leak_s    float64\n",
      "dtypes: float64(2), int64(4), object(8)\n",
      "memory usage: 238.6+ MB\n"
     ]
    }
   ],
   "source": [
    "data.info()\n"
   ]
  },
  {
   "cell_type": "code",
   "execution_count": 61,
   "id": "82ae911c",
   "metadata": {},
   "outputs": [],
   "source": [
    "# Find the sensor_index for (x_loc, y_loc)\n",
    "sensor_index = 10000\n",
    "def find_index(x_loc,y_loc,eps = 5):\n",
    "    for sensor_i in range(22341):\n",
    "        x_sensor = float(data.iloc[sensor_i]['x'])\n",
    "        y_sensor = float(data.iloc[sensor_i]['y'])\n",
    "        if x_loc-eps< x_sensor and x_sensor < x_loc+eps:\n",
    "            if y_loc-eps<y_sensor and y_sensor < y_loc + eps:\n",
    "                return sensor_i"
   ]
  },
  {
   "cell_type": "code",
   "execution_count": 63,
   "id": "5254edac",
   "metadata": {},
   "outputs": [],
   "source": [
    "x_loc = 500\n",
    "y_loc = 180\n",
    "sensor_index_1 = find_index(x_loc, y_loc)"
   ]
  },
  {
   "cell_type": "code",
   "execution_count": 64,
   "id": "f176206f",
   "metadata": {},
   "outputs": [
    {
     "data": {
      "image/png": "[encoded data removed]",
      "text/plain": [
       "<Figure size 1000x600 with 1 Axes>"
      ]
     },
     "metadata": {},
     "output_type": "display_data"
    }
   ],
   "source": [
    "plot_variable_evolution(data, sensor_index_1, variable='c')"
   ]
  },
  {
   "cell_type": "code",
   "execution_count": 9,
   "id": "616757e8",
   "metadata": {},
   "outputs": [],
   "source": [
    "def plot_contour(df, snapshot_number, variable='c'):\n",
    "    # Check if the snapshot number is valid\n",
    "    if not (1 <= snapshot_number <= 40):\n",
    "        raise ValueError(\"Snapshot number must be between 1 and 100\")\n",
    "\n",
    "    # Calculate the row range for the selected snapshot\n",
    "    start_row = (snapshot_number - 1) * 22341\n",
    "    end_row = start_row + 22341\n",
    "\n",
    "    # Extract the snapshot data\n",
    "    snapshot_data = df.iloc[start_row:end_row]\n",
    "\n",
    "    # Extract x, y, and c values\n",
    "    x = snapshot_data['x'].astype(np.float32)\n",
    "    y = snapshot_data['y'].astype(np.float32)\n",
    "    c = snapshot_data[variable].astype(np.float32)\n",
    "\n",
    "    # Create a Triangulation\n",
    "    triang = tri.Triangulation(x, y)\n",
    "\n",
    "    # Plotting the contour\n",
    "    fig, ax = plt.subplots(figsize=(10, 8))\n",
    "    contour_plot = ax.tricontourf(triang, c, cmap='viridis')\n",
    "\n",
    "    # Adding a solid circle to mask the contour\n",
    "    circle_radius=40\n",
    "    circle = plt.Circle((0, 0), circle_radius, color='white', zorder=10)\n",
    "    ax.add_artist(circle)\n",
    "    \n",
    "    # plot sensor location as an x on the conoutr\n",
    "    #ax.plot(50, 50, 'rx')\n",
    "    ax.plot(x_sensor, y_sensor, 'rx')\n",
    "\n",
    "    # Setting axis limits and labels\n",
    "    ax.set_xlim(min(x), max(x))\n",
    "    ax.set_ylim(min(y), max(y))\n",
    "    ax.set_aspect('equal', 'box')\n",
    "    ax.set_title(f'Contour plot of {variable} for snapshot {snapshot_number}')\n",
    "\n",
    "    # Create a new Axes for the colorbar\n",
    "    cbar_ax = fig.add_axes([0.93, 0.25, 0.03, 0.5])  # Adjust these values as needed\n",
    "    cbar = fig.colorbar(contour_plot, cax=cbar_ax)\n",
    "    cbar.set_label(variable)\n",
    "    plt.show()"
   ]
  },
  {
   "cell_type": "code",
   "execution_count": 10,
   "id": "1aefe20c",
   "metadata": {
    "scrolled": true
   },
   "outputs": [
    {
     "data": {
      "image/png": "[encoded data removed]",
      "text/plain": [
       "<Figure size 1000x800 with 2 Axes>"
      ]
     },
     "metadata": {},
     "output_type": "display_data"
    }
   ],
   "source": [
    "# Example usage\n",
    "plot_contour(data, 10, 'u')"
   ]
  },
  {
   "cell_type": "code",
   "execution_count": 11,
   "id": "adf62e2a",
   "metadata": {},
   "outputs": [
    {
     "data": {
      "text/plain": [
       "' -3.70876999e+01'"
      ]
     },
     "execution_count": 11,
     "metadata": {},
     "output_type": "execute_result"
    }
   ],
   "source": [
    "data.iloc[1234]['x']"
   ]
  },
  {
   "cell_type": "code",
   "execution_count": null,
   "id": "8ce2d66e",
   "metadata": {},
   "outputs": [],
   "source": []
  }
 ],
 "metadata": {
  "kernelspec": {
   "display_name": "Python 3 (ipykernel)",
   "language": "python",
   "name": "python3"
  },
  "language_info": {
   "codemirror_mode": {
    "name": "ipython",
    "version": 3
   },
   "file_extension": ".py",
   "mimetype": "text/x-python",
   "name": "python",
   "nbconvert_exporter": "python",
   "pygments_lexer": "ipython3",
   "version": "3.10.9"
  }
 },
 "nbformat": 4,
 "nbformat_minor": 5
}
